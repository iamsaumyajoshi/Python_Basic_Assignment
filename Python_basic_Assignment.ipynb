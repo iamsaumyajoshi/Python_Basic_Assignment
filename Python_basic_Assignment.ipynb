{
 "cells": [
  {
   "cell_type": "markdown",
   "id": "8b9629a1-7bac-4fc9-a12b-b83820728c15",
   "metadata": {},
   "source": [
    "## 1. Explain the key feature of python that makes it a popular choice for programming."
   ]
  },
  {
   "cell_type": "markdown",
   "id": "0eee871f-3ffc-4dde-95c8-0b4af1bc2dc4",
   "metadata": {},
   "source": [
    "### i- Easy to Learn and Use: \n",
    "Python has a simple syntax and is relatively easy to read and write, making it a great language for beginners."
   ]
  },
  {
   "cell_type": "markdown",
   "id": "91398e8b-811c-4087-b252-dc95edcded34",
   "metadata": {},
   "source": [
    "### ii- Versatility: \n",
    "Python can be used for web development, data analysis, machine learning, automation, and more."
   ]
  },
  {
   "cell_type": "markdown",
   "id": "9bb3d65d-7170-49f7-8ead-e014b5fc57de",
   "metadata": {},
   "source": [
    "### iii- High-Level Language: \n",
    "Python abstracts away low-level details, allowing developers to focus on the logic of their program without worrying about memory management."
   ]
  },
  {
   "cell_type": "markdown",
   "id": "4fb1f9e4-4c51-4b5f-8a58-5b1cc4b885a3",
   "metadata": {},
   "source": [
    "### iv-Large Standard Library: \n",
    "Python has an extensive collection of libraries and modules that make it easy to perform various tasks."
   ]
  },
  {
   "cell_type": "markdown",
   "id": "7a3a65ab-ded0-407d-9c7f-b0b35ef17a2e",
   "metadata": {},
   "source": [
    "### v- Open-Source: \n",
    "Python is free and open-source, with a large community contributing to its development and maintenance"
   ]
  },
  {
   "cell_type": "markdown",
   "id": "dc3227f1-ae21-43da-8b6a-ca1da18767da",
   "metadata": {},
   "source": [
    "## 2. Describe the role of predefined keywords in Python and provide examples of how they are used in a program."
   ]
  },
  {
   "cell_type": "markdown",
   "id": "7b19ff79-83c7-4d7b-91fa-3be3a9a0a5ce",
   "metadata": {
    "tags": []
   },
   "source": [
    "#### Keywords:\n",
    "Keywords are predefined words that hold a special meaning and have specific purpose in python programming. Keywords cannot be used as variable/identifier/class name. In Python, predefined keywords play a crucial in defining the structure and logic of a program."
   ]
  },
  {
   "cell_type": "code",
   "execution_count": 7,
   "id": "5647a073-f85a-48df-95c6-dc1d2415c6fe",
   "metadata": {},
   "outputs": [
    {
     "name": "stdout",
     "output_type": "stream",
     "text": [
      "\n",
      "Here is a list of the Python keywords.  Enter any keyword to get more help.\n",
      "\n",
      "False               class               from                or\n",
      "None                continue            global              pass\n",
      "True                def                 if                  raise\n",
      "and                 del                 import              return\n",
      "as                  elif                in                  try\n",
      "assert              else                is                  while\n",
      "async               except              lambda              with\n",
      "await               finally             nonlocal            yield\n",
      "break               for                 not                 \n",
      "\n"
     ]
    }
   ],
   "source": [
    "help(\"keywords\") #for accessing predefined keywords"
   ]
  },
  {
   "cell_type": "markdown",
   "id": "feb34917-840f-42a0-a1a2-b8b185be49a1",
   "metadata": {},
   "source": [
    "#### Role & Uses :"
   ]
  },
  {
   "cell_type": "markdown",
   "id": "906ebf9d-c1c7-40fd-a1a8-6e3b4acbece6",
   "metadata": {},
   "source": [
    "#### i- if, else, elif : Used for conditionals statements to execute different blocks of code based on conditions."
   ]
  },
  {
   "cell_type": "markdown",
   "id": "2b7398bb-9406-462f-ba16-ee0900f3549d",
   "metadata": {},
   "source": [
    "#### \"if\": Used for conditional statements to execute code based on a condition. The block of code under if executes only if the condition is True."
   ]
  },
  {
   "cell_type": "code",
   "execution_count": 9,
   "id": "00b32f42-1dfa-4365-8dae-45f96c074816",
   "metadata": {},
   "outputs": [
    {
     "name": "stdout",
     "output_type": "stream",
     "text": [
      "the number is greater than 0\n"
     ]
    }
   ],
   "source": [
    "a = 70\n",
    "if a>0:\n",
    "  print(\"the number is greater than 0\")"
   ]
  },
  {
   "cell_type": "markdown",
   "id": "c4079743-fec4-4ae5-884d-c680fb15053f",
   "metadata": {},
   "source": [
    "#### \"if-else\": excute the \"if\" block if condition is true else excute the \"else\" block."
   ]
  },
  {
   "cell_type": "code",
   "execution_count": 10,
   "id": "0ed1dd65-d3ef-422f-8971-b28196e8eef4",
   "metadata": {},
   "outputs": [
    {
     "name": "stdout",
     "output_type": "stream",
     "text": [
      "I will play cricket\n"
     ]
    }
   ],
   "source": [
    "weather = \"sunny\"\n",
    "if weather == \"sunny\":\n",
    "           print (\"I will play cricket\")\n",
    "else: \n",
    "    print(\"I will watch series\")"
   ]
  },
  {
   "cell_type": "markdown",
   "id": "3ce78a09-09b0-4eef-8f70-ca1dca748738",
   "metadata": {},
   "source": [
    "#### \"elif\": statement is used in conjunction with if and else statements to handle multiple conditions."
   ]
  },
  {
   "cell_type": "code",
   "execution_count": 11,
   "id": "bb9fdb75-3a3f-4ab7-84bd-5218731d12c6",
   "metadata": {},
   "outputs": [
    {
     "name": "stdout",
     "output_type": "stream",
     "text": [
      "this block will be executed if a is less than 100\n"
     ]
    }
   ],
   "source": [
    "a = 70\n",
    "if a > 700:\n",
    "  print(\"this block will be executed if a is greater than 100\")\n",
    "elif a < 700:\n",
    "  print(\"this block will be executed if a is less than 100\")\n",
    "else:\n",
    "  print(\"the number is equals to 100\")"
   ]
  },
  {
   "cell_type": "markdown",
   "id": "3e074fa7-e510-4745-a3f6-7abb35057839",
   "metadata": {},
   "source": [
    "#### ii- for, while: Used for loops to iterate over sequence or execute code repeatedly."
   ]
  },
  {
   "cell_type": "markdown",
   "id": "aa1fd6cf-da62-43d4-9151-4a08b384b778",
   "metadata": {},
   "source": [
    "#### \"for\": Used to iterate over a sequence of elements. Strings & Lists are sequencial data."
   ]
  },
  {
   "cell_type": "code",
   "execution_count": null,
   "id": "1ac97406-2866-4b5a-bcba-a4f08b2a32c0",
   "metadata": {},
   "outputs": [
    {
     "name": "stdout",
     "output_type": "stream",
     "text": [
      "p\n",
      "w\n",
      "s\n",
      "k\n",
      "i\n",
      "l\n",
      "l\n",
      "s\n"
     ]
    }
   ],
   "source": [
    "a = \"pwskills\"\n",
    "for i in a:\n",
    "    print(i)"
   ]
  },
  {
   "cell_type": "markdown",
   "id": "cf306921-452e-477e-8a99-265ab2f91c14",
   "metadata": {},
   "source": [
    "#### \"while\": Used to create a loop that continues as long as a condition is True."
   ]
  },
  {
   "cell_type": "code",
   "execution_count": 16,
   "id": "715ee4c9-a655-4dc9-b98f-96cc9eaf3121",
   "metadata": {},
   "outputs": [
    {
     "name": "stdout",
     "output_type": "stream",
     "text": [
      "1\n",
      "2\n",
      "3\n",
      "4\n",
      "5\n",
      "6\n"
     ]
    }
   ],
   "source": [
    "n = 7\n",
    "i = 1\n",
    "while i < n: #(condition) if its True\n",
    "    print(i)  #block of code\n",
    "    i = i+1"
   ]
  },
  {
   "cell_type": "markdown",
   "id": "a2a673aa-8830-42c6-9a25-ae2e4771259c",
   "metadata": {},
   "source": [
    "#### iv- break, continue: Used to control the flow of loops."
   ]
  },
  {
   "cell_type": "markdown",
   "id": "8ce3a7ef-994e-44b9-9af9-024f68c2a1f3",
   "metadata": {},
   "source": [
    "#### \"break\": Used to terminate/exit the loop."
   ]
  },
  {
   "cell_type": "code",
   "execution_count": 17,
   "id": "c7b47842-5b61-46c3-b4b2-365abd83b3ba",
   "metadata": {},
   "outputs": [
    {
     "name": "stdout",
     "output_type": "stream",
     "text": [
      "2\n",
      "3\n",
      "4\n"
     ]
    }
   ],
   "source": [
    "n = 8\n",
    "i = 2\n",
    "while i < n:\n",
    "    print(i)\n",
    "    i= i+1\n",
    "    if i==5:\n",
    "        break"
   ]
  },
  {
   "cell_type": "markdown",
   "id": "093464f9-02fb-4dca-97cc-5029e20c7023",
   "metadata": {},
   "source": [
    "#### \"continue\": Used to skip the iteration."
   ]
  },
  {
   "cell_type": "code",
   "execution_count": 18,
   "id": "782ac19e-64c1-447d-aaa4-375cff30ae3d",
   "metadata": {},
   "outputs": [
    {
     "name": "stdout",
     "output_type": "stream",
     "text": [
      "3\n",
      "4\n",
      "6\n",
      "7\n",
      "8\n",
      "this will be executed successfully when the while is run successfully without any break\n"
     ]
    }
   ],
   "source": [
    "n = 8\n",
    "i = 2\n",
    "while i < n:\n",
    "    i= i+1\n",
    "    if i==5:\n",
    "        continue\n",
    "    print(i)\n",
    "else:\n",
    "    print( \"this will be executed successfully when the while is run successfully without any break\" )"
   ]
  },
  {
   "cell_type": "markdown",
   "id": "ec990caf-a629-4af7-840a-5d163438336f",
   "metadata": {},
   "source": [
    "## 3. Compare and contrast mutable and immutable objects in Python with examples."
   ]
  },
  {
   "cell_type": "markdown",
   "id": "485566da-7764-408f-9f3d-42e2778bb70d",
   "metadata": {},
   "source": [
    "#### Mutable object:\n",
    "Mutable objects can be modified after creation. Example include list, dictionary and set."
   ]
  },
  {
   "cell_type": "markdown",
   "id": "107bb680-198b-45dd-a973-84095ec6abe6",
   "metadata": {},
   "source": [
    "#### Characteristics:\n",
    ">Changeable: You can modify the contents or state of the object without changing its identity.\n",
    "\n",
    ">Memory Efficiency: Mutables can be more memory efficient when modifying large structures since you modify the existing object instead of creating a new one."
   ]
  },
  {
   "cell_type": "markdown",
   "id": "4a7394f9-d105-46a2-a5f8-2959b8260e90",
   "metadata": {},
   "source": [
    "#### List:"
   ]
  },
  {
   "cell_type": "code",
   "execution_count": 19,
   "id": "fc90cbd7-7d3c-4c18-9374-050bb3feff72",
   "metadata": {},
   "outputs": [
    {
     "data": {
      "text/plain": [
       "[8, 2, 3, 4.6, 'pwskills']"
      ]
     },
     "execution_count": 19,
     "metadata": {},
     "output_type": "execute_result"
    }
   ],
   "source": [
    "my_list = [1,2,3,4.6,\"pwskills\"]              \n",
    "my_list[0] = 8\n",
    "my_list"
   ]
  },
  {
   "cell_type": "markdown",
   "id": "d4698497-e879-4e32-b9a4-669199c71e3e",
   "metadata": {},
   "source": [
    "#### Dictionaries:"
   ]
  },
  {
   "cell_type": "code",
   "execution_count": 20,
   "id": "07ba9795-dc4c-4940-89ec-0bd8f5f4adfd",
   "metadata": {},
   "outputs": [
    {
     "name": "stdout",
     "output_type": "stream",
     "text": [
      "{'key1': 'new_value', 'key2': 'value2'}\n"
     ]
    }
   ],
   "source": [
    "my_dict = {'key1': 'value1', 'key2': 'value2'}\n",
    "my_dict['key1'] = 'new_value'               # Changing the value associated with 'key1'\n",
    "print(my_dict) "
   ]
  },
  {
   "cell_type": "markdown",
   "id": "a369c9b8-f3e4-483f-ab93-7f1de3d444dd",
   "metadata": {},
   "source": [
    "### Immutable Objects:"
   ]
  },
  {
   "cell_type": "markdown",
   "id": "f6c469dd-a9a0-4a1e-9985-992ec82cc92e",
   "metadata": {},
   "source": [
    "##### Immutable objects are those whose value or state cannot be changed after they have been created. Examples: Strings, tuples, integers, floats."
   ]
  },
  {
   "cell_type": "markdown",
   "id": "05df4fa1-10da-4d23-8f57-1591e83f498c",
   "metadata": {},
   "source": [
    "#### Characteristics:\n",
    ">Unchangeable: Any modification to the object results in the creation of a new object.\n",
    "\n",
    ">Safe from Side Effects: Since immutable objects cannot be altered, they are inherently thread-safe and can be used as keys in dictionaries."
   ]
  },
  {
   "cell_type": "markdown",
   "id": "03b1c62d-f68b-4955-b6e8-03d1595a159d",
   "metadata": {},
   "source": [
    "#### Strings:"
   ]
  },
  {
   "cell_type": "code",
   "execution_count": 21,
   "id": "13693b8e-713e-4c1d-a003-2b1633d7dc16",
   "metadata": {},
   "outputs": [
    {
     "name": "stdout",
     "output_type": "stream",
     "text": [
      "hello\n",
      "HELLO\n"
     ]
    }
   ],
   "source": [
    "my_string = \"hello\"\n",
    "new_string = my_string.upper()   # Creates a new string with uppercased characters\n",
    "print(my_string)                 # Output: hello\n",
    "print(new_string)                # Output: HELLO"
   ]
  },
  {
   "cell_type": "markdown",
   "id": "75773027-20bb-419d-8ffd-5fe62f6ab84c",
   "metadata": {},
   "source": [
    "#### Integers:"
   ]
  },
  {
   "cell_type": "code",
   "execution_count": 22,
   "id": "3ce8f359-4063-4e49-91e8-8f8aa53fc95b",
   "metadata": {},
   "outputs": [
    {
     "name": "stdout",
     "output_type": "stream",
     "text": [
      "10\n",
      "15\n"
     ]
    }
   ],
   "source": [
    "a = 10\n",
    "b = a + 5       # Creates a new integer object\n",
    "print(a)        # Output: 10\n",
    "print(b)        # Output: 15"
   ]
  },
  {
   "cell_type": "markdown",
   "id": "72d0b1b9-de41-4d8c-972b-15cb27d2f0b5",
   "metadata": {},
   "source": [
    "#### Floats:"
   ]
  },
  {
   "cell_type": "code",
   "execution_count": 23,
   "id": "e6645d3d-3cc1-4060-8245-a004a6ed20f4",
   "metadata": {},
   "outputs": [
    {
     "name": "stdout",
     "output_type": "stream",
     "text": [
      "6\n"
     ]
    }
   ],
   "source": [
    "x = 5\n",
    "x += 1\n",
    "print(x)             #new object created"
   ]
  },
  {
   "cell_type": "markdown",
   "id": "6db75acb-f73e-40cf-b708-4534271f9134",
   "metadata": {},
   "source": [
    "#### Tuples:"
   ]
  },
  {
   "cell_type": "code",
   "execution_count": 24,
   "id": "4b679663-68f1-420d-b9b8-e83b88932e95",
   "metadata": {},
   "outputs": [
    {
     "name": "stdout",
     "output_type": "stream",
     "text": [
      "(1, 2, 3)\n",
      "(1, 2, 3, 4, 5)\n"
     ]
    }
   ],
   "source": [
    "my_tuple = (1, 2, 3)\n",
    "new_tuple = my_tuple + (4, 5)    # Concatenates and creates a new tuple\n",
    "print(my_tuple)                  # Output: (1, 2, 3)\n",
    "print(new_tuple)                 # Output: (1, 2, 3, 4, 5)"
   ]
  },
  {
   "cell_type": "markdown",
   "id": "60242386-4d50-4773-8fbe-393d09c477b0",
   "metadata": {},
   "source": [
    "### Key Differences between Mutable & Immutable ojects :"
   ]
  },
  {
   "cell_type": "markdown",
   "id": "8abc3a6a-6cf7-4b7a-a8e8-413f98c4cb56",
   "metadata": {},
   "source": [
    "#### 1. Modification:\n",
    "Mutable: Can be modified in place.\n",
    "\n",
    "Immutable: Cannot be modified; modifications result in a new object."
   ]
  },
  {
   "cell_type": "markdown",
   "id": "e45f5f1d-09d5-4d4d-9aec-08bf0c1253b1",
   "metadata": {},
   "source": [
    "#### 2. Memory and Performance:\n",
    "Mutable: More memory efficient when modifying objects because the same object is altered.\n",
    "\n",
    "Immutable: Can be less memory efficient when frequent changes are required due to creation of new objects."
   ]
  },
  {
   "cell_type": "markdown",
   "id": "b5ff2a61-b2f0-4fe7-a7b3-019e8efb0f59",
   "metadata": {},
   "source": [
    "#### 3. Use Cases:\n",
    "Mutable: Suitable for objects that need to be updated or modified frequently, like lists and dictionaries.\n",
    "\n",
    "Immutable: Suitable for fixed data or when you want to ensure data integrity and avoid side effects, like strings and tuples."
   ]
  },
  {
   "cell_type": "markdown",
   "id": "4f0d85eb-76a8-4d80-9cab-00c248ba8cff",
   "metadata": {},
   "source": [
    "## 4. Discuss the different types of operator in Python and provide example of how they are used."
   ]
  },
  {
   "cell_type": "markdown",
   "id": "186ab135-f7ee-4a00-9d90-f0eef84bbc39",
   "metadata": {},
   "source": [
    "#### Python has several types of operators, including:\n"
   ]
  },
  {
   "cell_type": "markdown",
   "id": "0f066727-7e32-4d5d-bd5b-506c7b0839b9",
   "metadata": {},
   "source": [
    "### i- Arithmetic Operators:\n",
    "For mathematical calculations\n",
    "\n",
    "\n",
    "- Addition: a + b\n",
    "- Subtraction: a - b\n",
    "- Multiplication: a * b\n",
    "- Division: a / b\n",
    "- Modulus (remainder): a % b\n",
    "- Exponentiation: a ** b"
   ]
  },
  {
   "cell_type": "code",
   "execution_count": 25,
   "id": "c60700e3-e8ad-4c65-8b3e-87cfd2201947",
   "metadata": {},
   "outputs": [
    {
     "name": "stdout",
     "output_type": "stream",
     "text": [
      "10\n"
     ]
    }
   ],
   "source": [
    "x = 3\n",
    "y = 7\n",
    "print(x+y)"
   ]
  },
  {
   "cell_type": "markdown",
   "id": "665cf97e-bdba-4ce1-a7f1-d82938552128",
   "metadata": {},
   "source": [
    "### ii- Comparison Operators:\n",
    "For evaluating conditions.\n",
    "\n",
    "\n",
    "\n",
    "- Equal: a == b\n",
    "- Not Equal: a != b\n",
    "- Greater Than: a > b\n",
    "- Less Than: a < b\n",
    "- Greater Than or Equal: a >= b\n",
    "- Less Than or Equal: a <= b\n"
   ]
  },
  {
   "cell_type": "code",
   "execution_count": 26,
   "id": "edda4656-2346-4d7f-be91-ad73b803a86a",
   "metadata": {},
   "outputs": [
    {
     "name": "stdout",
     "output_type": "stream",
     "text": [
      "True\n"
     ]
    }
   ],
   "source": [
    "x = 3\n",
    "y = 7\n",
    "print(x<y)"
   ]
  },
  {
   "cell_type": "markdown",
   "id": "d189491b-e9e6-436e-9e5d-888a40be8d3a",
   "metadata": {},
   "source": [
    "### iii- Logical Operators:\n",
    "For combining conditions.\n",
    "\n",
    "\n",
    "- And: a and b\n",
    "- Or: a or b\n",
    "- Not: not a\n",
    "\n"
   ]
  },
  {
   "cell_type": "code",
   "execution_count": 27,
   "id": "fe0e1a57-0ee7-4fe0-a600-8bfc1a5e8333",
   "metadata": {},
   "outputs": [
    {
     "name": "stdout",
     "output_type": "stream",
     "text": [
      "False\n"
     ]
    }
   ],
   "source": [
    "x = True\n",
    "y = False\n",
    "print(x and y)"
   ]
  },
  {
   "cell_type": "markdown",
   "id": "34ce6152-a3f7-4deb-ab54-90977382d918",
   "metadata": {},
   "source": [
    "### iv- Assignment Operators:\n",
    "For assigning values.\n",
    "\n",
    "\n",
    "- Assign: a = b\n",
    "- Add and Assign: a += b\n",
    "- Subtract and Assign: a -= b\n",
    "- Multiply and Assign: a *= b\n",
    "- Divide and Assign: a /= b\n",
    "\n"
   ]
  },
  {
   "cell_type": "code",
   "execution_count": 28,
   "id": "9f661162-3c76-4586-8042-f9ef5fb48b57",
   "metadata": {},
   "outputs": [
    {
     "name": "stdout",
     "output_type": "stream",
     "text": [
      "13\n"
     ]
    }
   ],
   "source": [
    "x = 5\n",
    "x += 8\n",
    "print(x)"
   ]
  },
  {
   "cell_type": "markdown",
   "id": "7018b93f-cf4b-4bdc-bf83-0d4d44e2c6bf",
   "metadata": {},
   "source": [
    "### v- Bitwise Operators:\n",
    "For manipulating binary numbers.\n",
    "\n",
    "\n",
    "\n",
    "- Bitwise And: a & b\n",
    "- Bitwise Or: a | b\n",
    "- Bitwise Xor: a ^ b\n",
    "- Bitwise Not: ~a\n",
    "- Left Shift: a << b\n",
    "- Right Shift: a >> b\n"
   ]
  },
  {
   "cell_type": "code",
   "execution_count": 29,
   "id": "39740056-d98f-465f-a525-8ae007613fd7",
   "metadata": {},
   "outputs": [
    {
     "name": "stdout",
     "output_type": "stream",
     "text": [
      "1\n"
     ]
    }
   ],
   "source": [
    "x = 5\n",
    "y = 3\n",
    "print(x&y)"
   ]
  },
  {
   "cell_type": "markdown",
   "id": "79653e6c-fa0a-48c0-b650-aa82690c448f",
   "metadata": {},
   "source": [
    "### vi- Membership Operators:\n",
    "For checking presence in sequences.\n",
    "\n",
    "\n",
    "- In: a in b\n",
    "- Not In: a not in b\n"
   ]
  },
  {
   "cell_type": "code",
   "execution_count": 30,
   "id": "5db6533e-a0c8-47f7-b90f-a57da6240c3b",
   "metadata": {},
   "outputs": [
    {
     "name": "stdout",
     "output_type": "stream",
     "text": [
      "True\n"
     ]
    }
   ],
   "source": [
    "x = [1,2,3]\n",
    "y = 3\n",
    "print(y in x)"
   ]
  },
  {
   "cell_type": "markdown",
   "id": "eefc91e5-351e-4152-b7af-851cae545f63",
   "metadata": {},
   "source": [
    "### vii- Identity Operators:\n",
    "For comparing object identities.\n",
    "\n",
    "- Is: a is b\n",
    "- Is Not: a is not b\n"
   ]
  },
  {
   "cell_type": "code",
   "execution_count": 31,
   "id": "f0cccfea-6fcb-4423-a693-f919f01d66a5",
   "metadata": {},
   "outputs": [
    {
     "name": "stdout",
     "output_type": "stream",
     "text": [
      "True\n"
     ]
    }
   ],
   "source": [
    "x = [1,2,3]\n",
    "y = x\n",
    "print(x is y)"
   ]
  },
  {
   "cell_type": "markdown",
   "id": "622423c4-53b7-417e-a2cd-d4660980d7a5",
   "metadata": {},
   "source": [
    "## 5. Explain the concept of type casting in python with examples."
   ]
  },
  {
   "cell_type": "markdown",
   "id": "54e08d43-fc37-4096-b9de-19c4e04e7de7",
   "metadata": {},
   "source": [
    "#### Type casting/type conversion: \n",
    "In Python refers to the process of converting a value from one data type to another. This is useful when you need to perform operations that require specific data types or when you need to convert data to match the requirements of a particular function or operation.\n",
    "\n",
    "This can be done using built it functions:\n",
    "\n",
    "- int(): Converts a value to an integer.\n",
    "- float(): Converts a value to a float.\n",
    "- str(): Converts a value to a string.\n",
    "- bool(): Converts a value to a boolean.\n"
   ]
  },
  {
   "cell_type": "code",
   "execution_count": 32,
   "id": "42821ec1-3c15-4fcb-9dfa-72983ca6bdb4",
   "metadata": {},
   "outputs": [
    {
     "data": {
      "text/plain": [
       "int"
      ]
     },
     "execution_count": 32,
     "metadata": {},
     "output_type": "execute_result"
    }
   ],
   "source": [
    "string_number=\"98\"                       \n",
    "integer_number=int(string_number)      #string converted to integer\n",
    "type(integer_number)"
   ]
  },
  {
   "cell_type": "code",
   "execution_count": 33,
   "id": "5a319307-4f62-4431-bbbc-8b06aa7de912",
   "metadata": {},
   "outputs": [
    {
     "data": {
      "text/plain": [
       "str"
      ]
     },
     "execution_count": 33,
     "metadata": {},
     "output_type": "execute_result"
    }
   ],
   "source": [
    "integer_number=87\n",
    "a=str(\"integer_number\")                 #integer converted to string\n",
    "type(a)"
   ]
  },
  {
   "cell_type": "code",
   "execution_count": 34,
   "id": "9fd3b352-beac-4604-be6c-6bb148383213",
   "metadata": {},
   "outputs": [
    {
     "data": {
      "text/plain": [
       "int"
      ]
     },
     "execution_count": 34,
     "metadata": {},
     "output_type": "execute_result"
    }
   ],
   "source": [
    "a= True\n",
    "integer_value=int(a)                     #boolean converted to int\n",
    "type(integer_value)"
   ]
  },
  {
   "cell_type": "code",
   "execution_count": 37,
   "id": "e1aeb304-b0d7-46dd-a41b-1a393eb197cf",
   "metadata": {},
   "outputs": [
    {
     "name": "stdout",
     "output_type": "stream",
     "text": [
      "5\n"
     ]
    },
    {
     "data": {
      "text/plain": [
       "int"
      ]
     },
     "execution_count": 37,
     "metadata": {},
     "output_type": "execute_result"
    }
   ],
   "source": [
    "x = 5.5\n",
    "y = int(x)                        #float coverted to an integer\n",
    "print(y)\n",
    "type(y)"
   ]
  },
  {
   "cell_type": "markdown",
   "id": "2c167d17-5333-4a95-89bf-f154e189882b",
   "metadata": {},
   "source": [
    "### 6. How do conditional statements work in python? Illustrate with examples."
   ]
  },
  {
   "cell_type": "markdown",
   "id": "2444f8a1-a51a-43dc-abbe-67c74c99c557",
   "metadata": {},
   "source": [
    "### Conditional statements:\n",
    "It allows you to excute different code blocks based on specific conditions, Python uses the if, else, elif keywords for this purpose."
   ]
  },
  {
   "cell_type": "code",
   "execution_count": 38,
   "id": "854c0b1c-bd0a-4f90-83bd-bad7e7e01a49",
   "metadata": {},
   "outputs": [
    {
     "name": "stdout",
     "output_type": "stream",
     "text": [
      " you are pass\n"
     ]
    }
   ],
   "source": [
    "score = 33\n",
    "if score >= 33:\n",
    "  print(\" you are pass\")\n",
    "else:\n",
    "  print(\"repeat the class\")"
   ]
  },
  {
   "cell_type": "code",
   "execution_count": 39,
   "id": "07c65455-0062-45e8-a9ed-ba0935a31c2e",
   "metadata": {},
   "outputs": [
    {
     "name": "stdout",
     "output_type": "stream",
     "text": [
      "repeat the class\n"
     ]
    }
   ],
   "source": [
    "score = 32\n",
    "if score >= 33:\n",
    "  print(\" you are pass\")\n",
    "else:\n",
    "  print(\"repeat the class\")"
   ]
  },
  {
   "cell_type": "code",
   "execution_count": 40,
   "id": "d2fc1c2d-dadc-41ea-96bd-5727ef33eca8",
   "metadata": {},
   "outputs": [
    {
     "name": "stdout",
     "output_type": "stream",
     "text": [
      "you are senior citizen\n"
     ]
    }
   ],
   "source": [
    "age = 78\n",
    "if age < 18:\n",
    "  print(\" you are minor\")\n",
    "elif 20<= age <= 70:\n",
    "  print(\"you are adult\")\n",
    "else:\n",
    "  print(\"you are senior citizen\")"
   ]
  },
  {
   "cell_type": "markdown",
   "id": "fcc3fb6e-e36c-414a-877d-341de9db7eb1",
   "metadata": {},
   "source": [
    "### 7. Describe the different types of loops in python and their use case with examples."
   ]
  },
  {
   "cell_type": "markdown",
   "id": "93c247b5-ede9-48b1-b731-ed6c19000502",
   "metadata": {},
   "source": [
    "#### Loop condition:\n",
    "In Python, loops are used to execute a block of code repeatedly based on certain conditions.There are two primary types of loops in Python: \"for\" loops and \"while\" loops. Each has its own use cases and characteristics."
   ]
  },
  {
   "cell_type": "markdown",
   "id": "48d45436-8957-4c51-bc45-ccf305d8ff1c",
   "metadata": {},
   "source": [
    "#### i- \"for\" Loop:\n",
    "The 'for' loop in Python iterates over a sequence of elements (such as a list, tuple, dictionary, set, or string) and executes a block of code for each element in the sequence."
   ]
  },
  {
   "cell_type": "code",
   "execution_count": 41,
   "id": "246d1de3-6aee-4056-8d8c-5710d6bb2340",
   "metadata": {},
   "outputs": [
    {
     "name": "stdout",
     "output_type": "stream",
     "text": [
      "1\n",
      "2\n",
      "Asha\n",
      "Boss\n"
     ]
    }
   ],
   "source": [
    "m = ( 1, 2, 'Asha', 'Boss')\n",
    "for n in m:\n",
    "    print(n)"
   ]
  },
  {
   "cell_type": "code",
   "execution_count": 42,
   "id": "7945d177-239a-4e9f-9c28-592d077a6f78",
   "metadata": {},
   "outputs": [
    {
     "name": "stdout",
     "output_type": "stream",
     "text": [
      "apple\n",
      "mango\n",
      "banana\n"
     ]
    }
   ],
   "source": [
    "fruits = ('apple', 'mango', 'banana')\n",
    "for fruit in fruits:\n",
    "    print(fruit)"
   ]
  },
  {
   "cell_type": "code",
   "execution_count": 44,
   "id": "025f783b-ed3b-4756-87e9-6fa26466e15a",
   "metadata": {},
   "outputs": [
    {
     "name": "stdout",
     "output_type": "stream",
     "text": [
      "Key: {key}, Value: {value}\n",
      "Key: {key}, Value: {value}\n",
      "Key: {key}, Value: {value}\n"
     ]
    }
   ],
   "source": [
    "my_dict = {'a': 1, 'b': 2, 'c': 3}\n",
    "for key, value in my_dict.items():\n",
    "    print(\"Key: {key}, Value: {value}\")"
   ]
  },
  {
   "cell_type": "markdown",
   "id": "08cebd6f-f372-4155-8921-aac56d1fcb67",
   "metadata": {},
   "source": [
    "#### b. \"while\" Loop:\n",
    "The 'while' loop repeatedly executes a block of code as long as a specified condition is 'True'. The loop will terminate when the condition becomes 'False'."
   ]
  },
  {
   "cell_type": "code",
   "execution_count": 45,
   "id": "401f7918-5ebb-402d-ad1a-3ed14cfcdfb0",
   "metadata": {},
   "outputs": [
    {
     "name": "stdout",
     "output_type": "stream",
     "text": [
      "4\n",
      "3\n",
      "2\n",
      "1\n"
     ]
    }
   ],
   "source": [
    "count = 4\n",
    "while count > 0:\n",
    "    print(count)\n",
    "    count -= 1"
   ]
  },
  {
   "cell_type": "code",
   "execution_count": 1,
   "id": "431b324f-a396-40a3-999e-41fa558592b6",
   "metadata": {},
   "outputs": [
    {
     "name": "stdout",
     "output_type": "stream",
     "text": [
      "1\n",
      "2\n",
      "3\n",
      "4\n",
      "5\n",
      "6\n"
     ]
    }
   ],
   "source": [
    "i = 1\n",
    "n = 7\n",
    "while i < n:\n",
    "    print(i)\n",
    "    i = i + 1"
   ]
  }
 ],
 "metadata": {
  "kernelspec": {
   "display_name": "Python 3 (ipykernel)",
   "language": "python",
   "name": "python3"
  },
  "language_info": {
   "codemirror_mode": {
    "name": "ipython",
    "version": 3
   },
   "file_extension": ".py",
   "mimetype": "text/x-python",
   "name": "python",
   "nbconvert_exporter": "python",
   "pygments_lexer": "ipython3",
   "version": "3.10.8"
  }
 },
 "nbformat": 4,
 "nbformat_minor": 5
}
